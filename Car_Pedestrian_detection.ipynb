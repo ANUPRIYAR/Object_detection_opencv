{
 "cells": [
  {
   "cell_type": "markdown",
   "metadata": {},
   "source": [
    "# Pedestrians detection in video"
   ]
  },
  {
   "cell_type": "code",
   "execution_count": 6,
   "metadata": {},
   "outputs": [],
   "source": [
    "import cv2\n",
    "import numpy as np\n",
    "\n",
    "vpath = 'C:/Users/ar049995/Videos/'\n",
    "\n",
    "body_classifier = cv2.CascadeClassifier(cv2.data.haarcascades + 'haarcascade_fullbody.xml')\n",
    "\n",
    "# To access the video \n",
    "capture = cv2.VideoCapture(vpath + 'walking.avi')\n",
    "\n",
    "while capture.isOpened():\n",
    "    \n",
    "# Read first frame\n",
    "    ret, frame = capture.read()\n",
    "    gray = cv2.cvtColor(frame, cv2.COLOR_BGR2GRAY)\n",
    "    walk = body_classifier.detectMultiScale(gray, 1.2, 3)\n",
    "    \n",
    "# Extract bounding boxes for the identified object\n",
    "    for (x,y,w,h) in walk:\n",
    "        cv2.rectangle(frame, (x,y), (x+w,y+h), (255,0,0), 2)\n",
    "        cv2.imshow(\"video\", frame)\n",
    "        \n",
    "    if cv2.waitKey(1) == 13:\n",
    "        break\n",
    "        \n",
    "capture.release()\n",
    "cv2.destroyAllWindows()"
   ]
  },
  {
   "cell_type": "markdown",
   "metadata": {},
   "source": [
    "https://github.com/opencv/opencv/tree/master/data/haarcascades"
   ]
  },
  {
   "cell_type": "markdown",
   "metadata": {},
   "source": [
    "Steps:\n",
    "    1. Read the image/Video; imread(image_path) or cv2.VideoCapture(video_path) or cv2. VideoCapture(0) for webcam\n",
    "    img = cv2.imread(imagepath)\n",
    "    # webcam\n",
    "    capture = cv2.VideoCapture(0)\n",
    "    ret, frame = capture.read()\n",
    "    # video\n",
    "    capture = cv2.VideoCapture(videopath)\n",
    "    ret, frame = capture.read()\n",
    "    2. Convert into gray scale , BGR to Gray\n",
    "    3. Use detectMultiscale to get the coordinates (use converted gray scale image)since its easier to detect.\n",
    "    4. Extract coordinates from the detected_object\n",
    "    5. Draw rectangle over the detected object using those coodinates(use color image)\n",
    "    5. Use imshow() function to display the detected object "
   ]
  },
  {
   "cell_type": "markdown",
   "metadata": {},
   "source": [
    "# Car detection using Opencv"
   ]
  },
  {
   "cell_type": "code",
   "execution_count": 1,
   "metadata": {},
   "outputs": [],
   "source": [
    "import cv2 \n",
    "import numpy as np\n",
    "\n",
    "vpath = 'C:/Users/ar049995/Videos/'\n",
    "\n",
    "car_classifier = cv2.CascadeClassifier(vpath + 'haarcascades/cars.xml')\n",
    "capture = cv2.VideoCapture(vpath + 'cars.avi')\n",
    "\n",
    "while capture.isOpened():\n",
    "    \n",
    "    ret, frame = capture.read()\n",
    "    gray = cv2.cvtColor(frame, cv2.COLOR_BGR2GRAY)\n",
    "    car = car_classifier.detectMultiScale(gray, 1.4,2)\n",
    "    \n",
    "# Create Bounding boxes\n",
    "    for (x,y,w,h) in car:\n",
    "        cv2.rectangle(frame, (x,y), (x+w,y+h), (255,0,0), 2)\n",
    "        cv2.imshow(\"Car Detection\", frame)\n",
    "        \n",
    "    if cv2.waitKey(1) == 13:\n",
    "        break\n",
    "capture.release()\n",
    "cv2.destroyAllWindows()"
   ]
  },
  {
   "cell_type": "code",
   "execution_count": null,
   "metadata": {},
   "outputs": [],
   "source": []
  }
 ],
 "metadata": {
  "kernelspec": {
   "display_name": "Python 3",
   "language": "python",
   "name": "python3"
  },
  "language_info": {
   "codemirror_mode": {
    "name": "ipython",
    "version": 3
   },
   "file_extension": ".py",
   "mimetype": "text/x-python",
   "name": "python",
   "nbconvert_exporter": "python",
   "pygments_lexer": "ipython3",
   "version": "3.6.8"
  }
 },
 "nbformat": 4,
 "nbformat_minor": 2
}
